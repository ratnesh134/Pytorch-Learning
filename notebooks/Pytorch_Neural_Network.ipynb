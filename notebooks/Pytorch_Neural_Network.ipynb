{
  "nbformat": 4,
  "nbformat_minor": 0,
  "metadata": {
    "colab": {
      "provenance": []
    },
    "kernelspec": {
      "name": "python3",
      "display_name": "Python 3"
    },
    "language_info": {
      "name": "python"
    }
  },
  "cells": [
    {
      "cell_type": "code",
      "execution_count": 2,
      "metadata": {
        "id": "MM-I2BOav8Ct"
      },
      "outputs": [],
      "source": [
        "import torch\n",
        "import torch.nn as nn # Components for building neural network\n",
        "import torch.optim as optim  # Tools for training neural network"
      ]
    },
    {
      "cell_type": "code",
      "source": [
        "# data\n",
        "# Distance in miles\n",
        "distances = torch.tensor([[1.0],[2.0],[3.0],[4.0]],dtype=torch.float32)\n",
        "\n",
        "# Delivery times in minutes\n",
        "times = torch.tensor([[6.96],[12.11],[16.77],[22.21]],dtype=torch.float32)"
      ],
      "metadata": {
        "id": "TQC9lq8jwEU_"
      },
      "execution_count": 3,
      "outputs": []
    },
    {
      "cell_type": "code",
      "source": [
        "# Define the model\n",
        "\n",
        "model = nn.Sequential(nn.Linear(1,1))  # nn.Linear(inputs,outputs)"
      ],
      "metadata": {
        "id": "zEJXYByby-dM"
      },
      "execution_count": 4,
      "outputs": []
    },
    {
      "cell_type": "code",
      "source": [
        "# Define the loss function and optimizer\n",
        "\n",
        "loss_function = nn.MSELoss()\n",
        "optimizer = optim.SGD(model.parameters(), lr=0.01)"
      ],
      "metadata": {
        "id": "JC-RCxpqzm7N"
      },
      "execution_count": 5,
      "outputs": []
    },
    {
      "cell_type": "code",
      "source": [
        "# Training\n",
        "\n",
        "for epoch in range(500):\n",
        "\n",
        "  # Reset the optimizer\n",
        "  optimizer.zero_grad()\n",
        "\n",
        "  # Make predictions\n",
        "  outputs = model(distances)\n",
        "\n",
        "  # Calculate the loss\n",
        "  loss = loss_function(outputs,times)\n",
        "\n",
        "  # Calculate the adjustment\n",
        "  loss.backward() #Back propogaton\n",
        "\n",
        "  # Adjust the weights\n",
        "  optimizer.step()\n",
        "\n"
      ],
      "metadata": {
        "id": "pDrQk59V2u2i"
      },
      "execution_count": 6,
      "outputs": []
    },
    {
      "cell_type": "code",
      "source": [
        "# Inference\n",
        "\n",
        "with torch.no_grad():\n",
        "  test_distance = torch.tensor([25.0], dtype=torch.float32)\n",
        "  predicted_time = model(test_distance)\n",
        "  print(f\"Predicted time for 25 miles : {predicted_time.item():.1f} minutes\")"
      ],
      "metadata": {
        "colab": {
          "base_uri": "https://localhost:8080/"
        },
        "id": "rRa5xnf83-pn",
        "outputId": "53659697-dc8d-4b7b-cfc6-2ef03a5c8dcd"
      },
      "execution_count": 7,
      "outputs": [
        {
          "output_type": "stream",
          "name": "stdout",
          "text": [
            "Predicted time for 25 miles : 129.0 minutes\n"
          ]
        }
      ]
    },
    {
      "cell_type": "code",
      "source": [],
      "metadata": {
        "id": "l-xBiC0x4ecE"
      },
      "execution_count": null,
      "outputs": []
    }
  ]
}